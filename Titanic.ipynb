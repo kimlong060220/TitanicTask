{
 "cells": [
  {
   "cell_type": "markdown",
   "metadata": {},
   "source": [
    "# Import thư viện."
   ]
  },
  {
   "cell_type": "code",
   "execution_count": 1,
   "metadata": {},
   "outputs": [],
   "source": [
    "import pandas as pd\n",
    "import numpy as np\n",
    "import matplotlib.pyplot as plt\n",
    "import seaborn as sns\n",
    "\n",
    "from sklearn.model_selection import train_test_split\n",
    "from sklearn.tree import DecisionTreeClassifier\n",
    "from sklearn.model_selection import GridSearchCV\n",
    "from sklearn.model_selection import cross_validate\n",
    "from sklearn.model_selection import cross_val_score\n",
    "from sklearn import metrics\n",
    "from sklearn import preprocessing\n",
    "import warnings\n",
    "from sklearn import preprocessing,tree\n",
    "from sklearn.model_selection import GridSearchCV"
   ]
  },
  {
   "cell_type": "markdown",
   "metadata": {},
   "source": [
    "# Loading file dữ liệu "
   ]
  },
  {
   "cell_type": "code",
   "execution_count": 2,
   "metadata": {},
   "outputs": [],
   "source": [
    "train_dt = pd.read_csv(\"E:/Lab/Data/Titanic_Task/train.csv\")\n",
    "test_dt = pd.read_csv(\"E:/Lab/Data/Titanic_Task/test.csv\")"
   ]
  },
  {
   "cell_type": "code",
   "execution_count": 3,
   "metadata": {},
   "outputs": [
    {
     "data": {
      "text/html": [
       "<div>\n",
       "<style scoped>\n",
       "    .dataframe tbody tr th:only-of-type {\n",
       "        vertical-align: middle;\n",
       "    }\n",
       "\n",
       "    .dataframe tbody tr th {\n",
       "        vertical-align: top;\n",
       "    }\n",
       "\n",
       "    .dataframe thead th {\n",
       "        text-align: right;\n",
       "    }\n",
       "</style>\n",
       "<table border=\"1\" class=\"dataframe\">\n",
       "  <thead>\n",
       "    <tr style=\"text-align: right;\">\n",
       "      <th></th>\n",
       "      <th>PassengerId</th>\n",
       "      <th>Survived</th>\n",
       "      <th>Pclass</th>\n",
       "      <th>Name</th>\n",
       "      <th>Sex</th>\n",
       "      <th>Age</th>\n",
       "      <th>SibSp</th>\n",
       "      <th>Parch</th>\n",
       "      <th>Ticket</th>\n",
       "      <th>Fare</th>\n",
       "      <th>Cabin</th>\n",
       "      <th>Embarked</th>\n",
       "    </tr>\n",
       "  </thead>\n",
       "  <tbody>\n",
       "    <tr>\n",
       "      <th>0</th>\n",
       "      <td>1</td>\n",
       "      <td>0</td>\n",
       "      <td>3</td>\n",
       "      <td>Braund, Mr. Owen Harris</td>\n",
       "      <td>male</td>\n",
       "      <td>22.0</td>\n",
       "      <td>1</td>\n",
       "      <td>0</td>\n",
       "      <td>A/5 21171</td>\n",
       "      <td>7.2500</td>\n",
       "      <td>NaN</td>\n",
       "      <td>S</td>\n",
       "    </tr>\n",
       "    <tr>\n",
       "      <th>1</th>\n",
       "      <td>2</td>\n",
       "      <td>1</td>\n",
       "      <td>1</td>\n",
       "      <td>Cumings, Mrs. John Bradley (Florence Briggs Th...</td>\n",
       "      <td>female</td>\n",
       "      <td>38.0</td>\n",
       "      <td>1</td>\n",
       "      <td>0</td>\n",
       "      <td>PC 17599</td>\n",
       "      <td>71.2833</td>\n",
       "      <td>C85</td>\n",
       "      <td>C</td>\n",
       "    </tr>\n",
       "    <tr>\n",
       "      <th>2</th>\n",
       "      <td>3</td>\n",
       "      <td>1</td>\n",
       "      <td>3</td>\n",
       "      <td>Heikkinen, Miss. Laina</td>\n",
       "      <td>female</td>\n",
       "      <td>26.0</td>\n",
       "      <td>0</td>\n",
       "      <td>0</td>\n",
       "      <td>STON/O2. 3101282</td>\n",
       "      <td>7.9250</td>\n",
       "      <td>NaN</td>\n",
       "      <td>S</td>\n",
       "    </tr>\n",
       "    <tr>\n",
       "      <th>3</th>\n",
       "      <td>4</td>\n",
       "      <td>1</td>\n",
       "      <td>1</td>\n",
       "      <td>Futrelle, Mrs. Jacques Heath (Lily May Peel)</td>\n",
       "      <td>female</td>\n",
       "      <td>35.0</td>\n",
       "      <td>1</td>\n",
       "      <td>0</td>\n",
       "      <td>113803</td>\n",
       "      <td>53.1000</td>\n",
       "      <td>C123</td>\n",
       "      <td>S</td>\n",
       "    </tr>\n",
       "    <tr>\n",
       "      <th>4</th>\n",
       "      <td>5</td>\n",
       "      <td>0</td>\n",
       "      <td>3</td>\n",
       "      <td>Allen, Mr. William Henry</td>\n",
       "      <td>male</td>\n",
       "      <td>35.0</td>\n",
       "      <td>0</td>\n",
       "      <td>0</td>\n",
       "      <td>373450</td>\n",
       "      <td>8.0500</td>\n",
       "      <td>NaN</td>\n",
       "      <td>S</td>\n",
       "    </tr>\n",
       "  </tbody>\n",
       "</table>\n",
       "</div>"
      ],
      "text/plain": [
       "   PassengerId  Survived  Pclass  \\\n",
       "0            1         0       3   \n",
       "1            2         1       1   \n",
       "2            3         1       3   \n",
       "3            4         1       1   \n",
       "4            5         0       3   \n",
       "\n",
       "                                                Name     Sex   Age  SibSp  \\\n",
       "0                            Braund, Mr. Owen Harris    male  22.0      1   \n",
       "1  Cumings, Mrs. John Bradley (Florence Briggs Th...  female  38.0      1   \n",
       "2                             Heikkinen, Miss. Laina  female  26.0      0   \n",
       "3       Futrelle, Mrs. Jacques Heath (Lily May Peel)  female  35.0      1   \n",
       "4                           Allen, Mr. William Henry    male  35.0      0   \n",
       "\n",
       "   Parch            Ticket     Fare Cabin Embarked  \n",
       "0      0         A/5 21171   7.2500   NaN        S  \n",
       "1      0          PC 17599  71.2833   C85        C  \n",
       "2      0  STON/O2. 3101282   7.9250   NaN        S  \n",
       "3      0            113803  53.1000  C123        S  \n",
       "4      0            373450   8.0500   NaN        S  "
      ]
     },
     "execution_count": 3,
     "metadata": {},
     "output_type": "execute_result"
    }
   ],
   "source": [
    "train_dt.head()"
   ]
  },
  {
   "cell_type": "code",
   "execution_count": 4,
   "metadata": {},
   "outputs": [
    {
     "data": {
      "text/html": [
       "<div>\n",
       "<style scoped>\n",
       "    .dataframe tbody tr th:only-of-type {\n",
       "        vertical-align: middle;\n",
       "    }\n",
       "\n",
       "    .dataframe tbody tr th {\n",
       "        vertical-align: top;\n",
       "    }\n",
       "\n",
       "    .dataframe thead th {\n",
       "        text-align: right;\n",
       "    }\n",
       "</style>\n",
       "<table border=\"1\" class=\"dataframe\">\n",
       "  <thead>\n",
       "    <tr style=\"text-align: right;\">\n",
       "      <th></th>\n",
       "      <th>PassengerId</th>\n",
       "      <th>Survived</th>\n",
       "      <th>Pclass</th>\n",
       "      <th>Name</th>\n",
       "      <th>Sex</th>\n",
       "      <th>Age</th>\n",
       "      <th>SibSp</th>\n",
       "      <th>Parch</th>\n",
       "      <th>Ticket</th>\n",
       "      <th>Fare</th>\n",
       "      <th>Cabin</th>\n",
       "      <th>Embarked</th>\n",
       "    </tr>\n",
       "  </thead>\n",
       "  <tbody>\n",
       "    <tr>\n",
       "      <th>count</th>\n",
       "      <td>891.000000</td>\n",
       "      <td>891.000000</td>\n",
       "      <td>891.000000</td>\n",
       "      <td>891</td>\n",
       "      <td>891</td>\n",
       "      <td>714.000000</td>\n",
       "      <td>891.000000</td>\n",
       "      <td>891.000000</td>\n",
       "      <td>891</td>\n",
       "      <td>891.000000</td>\n",
       "      <td>204</td>\n",
       "      <td>889</td>\n",
       "    </tr>\n",
       "    <tr>\n",
       "      <th>unique</th>\n",
       "      <td>NaN</td>\n",
       "      <td>NaN</td>\n",
       "      <td>NaN</td>\n",
       "      <td>891</td>\n",
       "      <td>2</td>\n",
       "      <td>NaN</td>\n",
       "      <td>NaN</td>\n",
       "      <td>NaN</td>\n",
       "      <td>681</td>\n",
       "      <td>NaN</td>\n",
       "      <td>147</td>\n",
       "      <td>3</td>\n",
       "    </tr>\n",
       "    <tr>\n",
       "      <th>top</th>\n",
       "      <td>NaN</td>\n",
       "      <td>NaN</td>\n",
       "      <td>NaN</td>\n",
       "      <td>Perreault, Miss. Anne</td>\n",
       "      <td>male</td>\n",
       "      <td>NaN</td>\n",
       "      <td>NaN</td>\n",
       "      <td>NaN</td>\n",
       "      <td>CA. 2343</td>\n",
       "      <td>NaN</td>\n",
       "      <td>C23 C25 C27</td>\n",
       "      <td>S</td>\n",
       "    </tr>\n",
       "    <tr>\n",
       "      <th>freq</th>\n",
       "      <td>NaN</td>\n",
       "      <td>NaN</td>\n",
       "      <td>NaN</td>\n",
       "      <td>1</td>\n",
       "      <td>577</td>\n",
       "      <td>NaN</td>\n",
       "      <td>NaN</td>\n",
       "      <td>NaN</td>\n",
       "      <td>7</td>\n",
       "      <td>NaN</td>\n",
       "      <td>4</td>\n",
       "      <td>644</td>\n",
       "    </tr>\n",
       "    <tr>\n",
       "      <th>mean</th>\n",
       "      <td>446.000000</td>\n",
       "      <td>0.383838</td>\n",
       "      <td>2.308642</td>\n",
       "      <td>NaN</td>\n",
       "      <td>NaN</td>\n",
       "      <td>29.699118</td>\n",
       "      <td>0.523008</td>\n",
       "      <td>0.381594</td>\n",
       "      <td>NaN</td>\n",
       "      <td>32.204208</td>\n",
       "      <td>NaN</td>\n",
       "      <td>NaN</td>\n",
       "    </tr>\n",
       "    <tr>\n",
       "      <th>std</th>\n",
       "      <td>257.353842</td>\n",
       "      <td>0.486592</td>\n",
       "      <td>0.836071</td>\n",
       "      <td>NaN</td>\n",
       "      <td>NaN</td>\n",
       "      <td>14.526497</td>\n",
       "      <td>1.102743</td>\n",
       "      <td>0.806057</td>\n",
       "      <td>NaN</td>\n",
       "      <td>49.693429</td>\n",
       "      <td>NaN</td>\n",
       "      <td>NaN</td>\n",
       "    </tr>\n",
       "    <tr>\n",
       "      <th>min</th>\n",
       "      <td>1.000000</td>\n",
       "      <td>0.000000</td>\n",
       "      <td>1.000000</td>\n",
       "      <td>NaN</td>\n",
       "      <td>NaN</td>\n",
       "      <td>0.420000</td>\n",
       "      <td>0.000000</td>\n",
       "      <td>0.000000</td>\n",
       "      <td>NaN</td>\n",
       "      <td>0.000000</td>\n",
       "      <td>NaN</td>\n",
       "      <td>NaN</td>\n",
       "    </tr>\n",
       "    <tr>\n",
       "      <th>25%</th>\n",
       "      <td>223.500000</td>\n",
       "      <td>0.000000</td>\n",
       "      <td>2.000000</td>\n",
       "      <td>NaN</td>\n",
       "      <td>NaN</td>\n",
       "      <td>20.125000</td>\n",
       "      <td>0.000000</td>\n",
       "      <td>0.000000</td>\n",
       "      <td>NaN</td>\n",
       "      <td>7.910400</td>\n",
       "      <td>NaN</td>\n",
       "      <td>NaN</td>\n",
       "    </tr>\n",
       "    <tr>\n",
       "      <th>50%</th>\n",
       "      <td>446.000000</td>\n",
       "      <td>0.000000</td>\n",
       "      <td>3.000000</td>\n",
       "      <td>NaN</td>\n",
       "      <td>NaN</td>\n",
       "      <td>28.000000</td>\n",
       "      <td>0.000000</td>\n",
       "      <td>0.000000</td>\n",
       "      <td>NaN</td>\n",
       "      <td>14.454200</td>\n",
       "      <td>NaN</td>\n",
       "      <td>NaN</td>\n",
       "    </tr>\n",
       "    <tr>\n",
       "      <th>75%</th>\n",
       "      <td>668.500000</td>\n",
       "      <td>1.000000</td>\n",
       "      <td>3.000000</td>\n",
       "      <td>NaN</td>\n",
       "      <td>NaN</td>\n",
       "      <td>38.000000</td>\n",
       "      <td>1.000000</td>\n",
       "      <td>0.000000</td>\n",
       "      <td>NaN</td>\n",
       "      <td>31.000000</td>\n",
       "      <td>NaN</td>\n",
       "      <td>NaN</td>\n",
       "    </tr>\n",
       "    <tr>\n",
       "      <th>max</th>\n",
       "      <td>891.000000</td>\n",
       "      <td>1.000000</td>\n",
       "      <td>3.000000</td>\n",
       "      <td>NaN</td>\n",
       "      <td>NaN</td>\n",
       "      <td>80.000000</td>\n",
       "      <td>8.000000</td>\n",
       "      <td>6.000000</td>\n",
       "      <td>NaN</td>\n",
       "      <td>512.329200</td>\n",
       "      <td>NaN</td>\n",
       "      <td>NaN</td>\n",
       "    </tr>\n",
       "  </tbody>\n",
       "</table>\n",
       "</div>"
      ],
      "text/plain": [
       "        PassengerId    Survived      Pclass                   Name   Sex  \\\n",
       "count    891.000000  891.000000  891.000000                    891   891   \n",
       "unique          NaN         NaN         NaN                    891     2   \n",
       "top             NaN         NaN         NaN  Perreault, Miss. Anne  male   \n",
       "freq            NaN         NaN         NaN                      1   577   \n",
       "mean     446.000000    0.383838    2.308642                    NaN   NaN   \n",
       "std      257.353842    0.486592    0.836071                    NaN   NaN   \n",
       "min        1.000000    0.000000    1.000000                    NaN   NaN   \n",
       "25%      223.500000    0.000000    2.000000                    NaN   NaN   \n",
       "50%      446.000000    0.000000    3.000000                    NaN   NaN   \n",
       "75%      668.500000    1.000000    3.000000                    NaN   NaN   \n",
       "max      891.000000    1.000000    3.000000                    NaN   NaN   \n",
       "\n",
       "               Age       SibSp       Parch    Ticket        Fare        Cabin  \\\n",
       "count   714.000000  891.000000  891.000000       891  891.000000          204   \n",
       "unique         NaN         NaN         NaN       681         NaN          147   \n",
       "top            NaN         NaN         NaN  CA. 2343         NaN  C23 C25 C27   \n",
       "freq           NaN         NaN         NaN         7         NaN            4   \n",
       "mean     29.699118    0.523008    0.381594       NaN   32.204208          NaN   \n",
       "std      14.526497    1.102743    0.806057       NaN   49.693429          NaN   \n",
       "min       0.420000    0.000000    0.000000       NaN    0.000000          NaN   \n",
       "25%      20.125000    0.000000    0.000000       NaN    7.910400          NaN   \n",
       "50%      28.000000    0.000000    0.000000       NaN   14.454200          NaN   \n",
       "75%      38.000000    1.000000    0.000000       NaN   31.000000          NaN   \n",
       "max      80.000000    8.000000    6.000000       NaN  512.329200          NaN   \n",
       "\n",
       "       Embarked  \n",
       "count       889  \n",
       "unique        3  \n",
       "top           S  \n",
       "freq        644  \n",
       "mean        NaN  \n",
       "std         NaN  \n",
       "min         NaN  \n",
       "25%         NaN  \n",
       "50%         NaN  \n",
       "75%         NaN  \n",
       "max         NaN  "
      ]
     },
     "execution_count": 4,
     "metadata": {},
     "output_type": "execute_result"
    }
   ],
   "source": [
    "train_dt.describe(include = \"all\")"
   ]
  },
  {
   "cell_type": "markdown",
   "metadata": {},
   "source": [
    "Kiểm tra kiểu dữ liệu"
   ]
  },
  {
   "cell_type": "code",
   "execution_count": 5,
   "metadata": {},
   "outputs": [
    {
     "data": {
      "text/plain": [
       "PassengerId      int64\n",
       "Survived         int64\n",
       "Pclass           int64\n",
       "SibSp            int64\n",
       "Parch            int64\n",
       "Age            float64\n",
       "Fare           float64\n",
       "Name            object\n",
       "Sex             object\n",
       "Ticket          object\n",
       "Cabin           object\n",
       "Embarked        object\n",
       "dtype: object"
      ]
     },
     "execution_count": 5,
     "metadata": {},
     "output_type": "execute_result"
    }
   ],
   "source": [
    "train_dt.dtypes.sort_values()"
   ]
  },
  {
   "cell_type": "markdown",
   "metadata": {},
   "source": [
    "# Khảo sát dữ liệu"
   ]
  },
  {
   "cell_type": "code",
   "execution_count": 6,
   "metadata": {},
   "outputs": [
    {
     "data": {
      "text/plain": [
       "0    549\n",
       "1    342\n",
       "Name: Survived, dtype: int64"
      ]
     },
     "execution_count": 6,
     "metadata": {},
     "output_type": "execute_result"
    },
    {
     "data": {
      "image/png": "[encoded data removed]",
      "text/plain": [
       "<Figure size 432x288 with 1 Axes>"
      ]
     },
     "metadata": {
      "needs_background": "light"
     },
     "output_type": "display_data"
    }
   ],
   "source": [
    "#Khảo sát cột survived\n",
    "train_dt['Survived'].value_counts().plot(kind=\"bar\")\n",
    "train_dt['Survived'].value_counts()"
   ]
  },
  {
   "cell_type": "markdown",
   "metadata": {},
   "source": [
    "Có thể thấy có 549 người chết và 342 người sống"
   ]
  },
  {
   "cell_type": "code",
   "execution_count": 7,
   "metadata": {},
   "outputs": [
    {
     "data": {
      "text/plain": [
       "<matplotlib.axes._subplots.AxesSubplot at 0x2776c352588>"
      ]
     },
     "execution_count": 7,
     "metadata": {},
     "output_type": "execute_result"
    },
    {
     "data": {
      "image/png": "[encoded data removed]",
      "text/plain": [
       "<Figure size 432x288 with 1 Axes>"
      ]
     },
     "metadata": {
      "needs_background": "light"
     },
     "output_type": "display_data"
    }
   ],
   "source": [
    "#Khảo sát cột 'Age'\n",
    "train_dt[\"Age\"].hist(width=3)"
   ]
  },
  {
   "cell_type": "markdown",
   "metadata": {},
   "source": [
    "Cho thấy độ tuổi phổ biến ở khoảng 20 đến 40"
   ]
  },
  {
   "cell_type": "code",
   "execution_count": 8,
   "metadata": {},
   "outputs": [
    {
     "data": {
      "text/plain": [
       "male      577\n",
       "female    314\n",
       "Name: Sex, dtype: int64"
      ]
     },
     "execution_count": 8,
     "metadata": {},
     "output_type": "execute_result"
    },
    {
     "data": {
      "image/png": "[encoded data removed]",
      "text/plain": [
       "<Figure size 432x288 with 1 Axes>"
      ]
     },
     "metadata": {
      "needs_background": "light"
     },
     "output_type": "display_data"
    }
   ],
   "source": [
    "#Khảo sát giới tính\n",
    "train_dt['Sex'].value_counts().plot(kind=\"bar\")\n",
    "train_dt['Sex'].value_counts()"
   ]
  },
  {
   "cell_type": "code",
   "execution_count": 9,
   "metadata": {},
   "outputs": [
    {
     "data": {
      "image/png": "[encoded data removed]",
      "text/plain": [
       "<Figure size 432x288 with 1 Axes>"
      ]
     },
     "metadata": {},
     "output_type": "display_data"
    }
   ],
   "source": [
    "#Khảo sát cột Embarked\n",
    "labels=\"Cherbourg\",\"Queenstown\",\"Southampton\"\n",
    "sizes=[sum(train_dt[\"Embarked\"]==\"C\"),sum(train_dt[\"Embarked\"]==\"Q\"),sum(train_dt[\"Embarked\"]==\"S\")]\n",
    "colors=[\"yellow\",\"aqua\",\"lime\"]\n",
    "plt.pie(sizes, labels=labels, colors=colors,\n",
    "        autopct='%1.1f%%',startangle=90)\n",
    " \n",
    "plt.axis('equal')\n",
    "plt.show()"
   ]
  },
  {
   "cell_type": "markdown",
   "metadata": {},
   "source": [
    "# Phân tích dữ liệu độ sống còn so với chỉ số của các cột"
   ]
  },
  {
   "cell_type": "code",
   "execution_count": 10,
   "metadata": {},
   "outputs": [],
   "source": [
    "#Hàm phân tích \n",
    "def survival_stacked_bar(variable):\n",
    "    Died=train_dt[train_dt[\"Survived\"]==0][variable].value_counts()/len(train_dt[\"Survived\"]==0)\n",
    "    Survived=train_dt[train_dt[\"Survived\"]==1][variable].value_counts()/len(train_dt[\"Survived\"]==1)\n",
    "    data=pd.DataFrame([Died,Survived])\n",
    "    data.index=[\"Die\",\"Survived\"]\n",
    "    data.plot(kind=\"bar\",stacked=True,title=\"Percentage\")\n",
    "    return data.head()"
   ]
  },
  {
   "cell_type": "code",
   "execution_count": 11,
   "metadata": {},
   "outputs": [
    {
     "data": {
      "text/html": [
       "<div>\n",
       "<style scoped>\n",
       "    .dataframe tbody tr th:only-of-type {\n",
       "        vertical-align: middle;\n",
       "    }\n",
       "\n",
       "    .dataframe tbody tr th {\n",
       "        vertical-align: top;\n",
       "    }\n",
       "\n",
       "    .dataframe thead th {\n",
       "        text-align: right;\n",
       "    }\n",
       "</style>\n",
       "<table border=\"1\" class=\"dataframe\">\n",
       "  <thead>\n",
       "    <tr style=\"text-align: right;\">\n",
       "      <th></th>\n",
       "      <th>male</th>\n",
       "      <th>female</th>\n",
       "    </tr>\n",
       "  </thead>\n",
       "  <tbody>\n",
       "    <tr>\n",
       "      <th>Die</th>\n",
       "      <td>0.525253</td>\n",
       "      <td>0.090909</td>\n",
       "    </tr>\n",
       "    <tr>\n",
       "      <th>Survived</th>\n",
       "      <td>0.122334</td>\n",
       "      <td>0.261504</td>\n",
       "    </tr>\n",
       "  </tbody>\n",
       "</table>\n",
       "</div>"
      ],
      "text/plain": [
       "              male    female\n",
       "Die       0.525253  0.090909\n",
       "Survived  0.122334  0.261504"
      ]
     },
     "execution_count": 11,
     "metadata": {},
     "output_type": "execute_result"
    },
    {
     "data": {
      "image/png": "[encoded data removed]",
      "text/plain": [
       "<Figure size 432x288 with 1 Axes>"
      ]
     },
     "metadata": {
      "needs_background": "light"
     },
     "output_type": "display_data"
    }
   ],
   "source": [
    "#So với cột \"Sex\"\n",
    "survival_stacked_bar(\"Sex\")"
   ]
  },
  {
   "cell_type": "markdown",
   "metadata": {},
   "source": [
    "Cho thấy 'female' có khả năng sống cao hơn"
   ]
  },
  {
   "cell_type": "code",
   "execution_count": 12,
   "metadata": {},
   "outputs": [
    {
     "data": {
      "text/html": [
       "<div>\n",
       "<style scoped>\n",
       "    .dataframe tbody tr th:only-of-type {\n",
       "        vertical-align: middle;\n",
       "    }\n",
       "\n",
       "    .dataframe tbody tr th {\n",
       "        vertical-align: top;\n",
       "    }\n",
       "\n",
       "    .dataframe thead th {\n",
       "        text-align: right;\n",
       "    }\n",
       "</style>\n",
       "<table border=\"1\" class=\"dataframe\">\n",
       "  <thead>\n",
       "    <tr style=\"text-align: right;\">\n",
       "      <th></th>\n",
       "      <th>1</th>\n",
       "      <th>2</th>\n",
       "      <th>3</th>\n",
       "    </tr>\n",
       "  </thead>\n",
       "  <tbody>\n",
       "    <tr>\n",
       "      <th>Die</th>\n",
       "      <td>0.089787</td>\n",
       "      <td>0.108866</td>\n",
       "      <td>0.417508</td>\n",
       "    </tr>\n",
       "    <tr>\n",
       "      <th>Survived</th>\n",
       "      <td>0.152637</td>\n",
       "      <td>0.097643</td>\n",
       "      <td>0.133558</td>\n",
       "    </tr>\n",
       "  </tbody>\n",
       "</table>\n",
       "</div>"
      ],
      "text/plain": [
       "                 1         2         3\n",
       "Die       0.089787  0.108866  0.417508\n",
       "Survived  0.152637  0.097643  0.133558"
      ]
     },
     "execution_count": 12,
     "metadata": {},
     "output_type": "execute_result"
    },
    {
     "data": {
      "image/png": "[encoded data removed]",
      "text/plain": [
       "<Figure size 432x288 with 1 Axes>"
      ]
     },
     "metadata": {
      "needs_background": "light"
     },
     "output_type": "display_data"
    }
   ],
   "source": [
    "survival_stacked_bar(\"Pclass\")"
   ]
  },
  {
   "cell_type": "markdown",
   "metadata": {},
   "source": [
    "Khả năng sống gần như nhau"
   ]
  },
  {
   "cell_type": "code",
   "execution_count": 13,
   "metadata": {},
   "outputs": [
    {
     "data": {
      "text/html": [
       "<div>\n",
       "<style scoped>\n",
       "    .dataframe tbody tr th:only-of-type {\n",
       "        vertical-align: middle;\n",
       "    }\n",
       "\n",
       "    .dataframe tbody tr th {\n",
       "        vertical-align: top;\n",
       "    }\n",
       "\n",
       "    .dataframe thead th {\n",
       "        text-align: right;\n",
       "    }\n",
       "</style>\n",
       "<table border=\"1\" class=\"dataframe\">\n",
       "  <thead>\n",
       "    <tr style=\"text-align: right;\">\n",
       "      <th></th>\n",
       "      <th>S</th>\n",
       "      <th>C</th>\n",
       "      <th>Q</th>\n",
       "    </tr>\n",
       "  </thead>\n",
       "  <tbody>\n",
       "    <tr>\n",
       "      <th>Die</th>\n",
       "      <td>0.479237</td>\n",
       "      <td>0.084175</td>\n",
       "      <td>0.05275</td>\n",
       "    </tr>\n",
       "    <tr>\n",
       "      <th>Survived</th>\n",
       "      <td>0.243547</td>\n",
       "      <td>0.104377</td>\n",
       "      <td>0.03367</td>\n",
       "    </tr>\n",
       "  </tbody>\n",
       "</table>\n",
       "</div>"
      ],
      "text/plain": [
       "                 S         C        Q\n",
       "Die       0.479237  0.084175  0.05275\n",
       "Survived  0.243547  0.104377  0.03367"
      ]
     },
     "execution_count": 13,
     "metadata": {},
     "output_type": "execute_result"
    },
    {
     "data": {
      "image/png": "[encoded data removed]",
      "text/plain": [
       "<Figure size 432x288 with 1 Axes>"
      ]
     },
     "metadata": {
      "needs_background": "light"
     },
     "output_type": "display_data"
    }
   ],
   "source": [
    "survival_stacked_bar(\"Embarked\")"
   ]
  },
  {
   "cell_type": "markdown",
   "metadata": {},
   "source": [
    "Cho thấy khả năng sống của giá trị \"S\" trong cột Embarked là cao nhất"
   ]
  },
  {
   "cell_type": "markdown",
   "metadata": {},
   "source": [
    "# Kiểm tra dữ liệu bị thiếu"
   ]
  },
  {
   "cell_type": "code",
   "execution_count": 14,
   "metadata": {},
   "outputs": [
    {
     "data": {
      "text/plain": [
       "PassengerId      0\n",
       "Survived         0\n",
       "Pclass           0\n",
       "Name             0\n",
       "Sex              0\n",
       "Age            177\n",
       "SibSp            0\n",
       "Parch            0\n",
       "Ticket           0\n",
       "Fare             0\n",
       "Cabin          687\n",
       "Embarked         2\n",
       "dtype: int64"
      ]
     },
     "execution_count": 14,
     "metadata": {},
     "output_type": "execute_result"
    }
   ],
   "source": [
    "train_dt.isnull().sum()"
   ]
  },
  {
   "cell_type": "markdown",
   "metadata": {},
   "source": [
    "# Thêm dữ liệu trống"
   ]
  },
  {
   "cell_type": "code",
   "execution_count": 15,
   "metadata": {},
   "outputs": [],
   "source": [
    "#thêm cột Age : thêm vào các trường trống bằng mean của Age\n",
    "train_dt['Age'] = train_dt['Age'].fillna(train_dt['Age'].mean())"
   ]
  },
  {
   "cell_type": "code",
   "execution_count": 16,
   "metadata": {},
   "outputs": [],
   "source": [
    "#thêm vào cột Cabin bằng \"unknow\"\n",
    "train_dt['Cabin'] = train_dt['Cabin'].fillna(\"unknow\")"
   ]
  },
  {
   "cell_type": "code",
   "execution_count": 17,
   "metadata": {},
   "outputs": [
    {
     "data": {
      "text/plain": [
       "S    644\n",
       "C    168\n",
       "Q     77\n",
       "Name: Embarked, dtype: int64"
      ]
     },
     "execution_count": 17,
     "metadata": {},
     "output_type": "execute_result"
    }
   ],
   "source": [
    "train_dt[\"Embarked\"].value_counts()"
   ]
  },
  {
   "cell_type": "code",
   "execution_count": 18,
   "metadata": {},
   "outputs": [],
   "source": [
    "#thêm vào nhưng ô trống của cột Embarked ký tự \"S\" vì \"S\" xuất hiện nhiều nhất\n",
    "train_dt['Embarked'] = train_dt['Embarked'].fillna('S')"
   ]
  },
  {
   "cell_type": "code",
   "execution_count": 19,
   "metadata": {},
   "outputs": [
    {
     "data": {
      "text/plain": [
       "PassengerId    0\n",
       "Survived       0\n",
       "Pclass         0\n",
       "Name           0\n",
       "Sex            0\n",
       "Age            0\n",
       "SibSp          0\n",
       "Parch          0\n",
       "Ticket         0\n",
       "Fare           0\n",
       "Cabin          0\n",
       "Embarked       0\n",
       "dtype: int64"
      ]
     },
     "execution_count": 19,
     "metadata": {},
     "output_type": "execute_result"
    }
   ],
   "source": [
    "#kiểm tra lại\n",
    "train_dt.isnull().sum()"
   ]
  },
  {
   "cell_type": "code",
   "execution_count": 20,
   "metadata": {},
   "outputs": [
    {
     "data": {
      "text/html": [
       "<div>\n",
       "<style scoped>\n",
       "    .dataframe tbody tr th:only-of-type {\n",
       "        vertical-align: middle;\n",
       "    }\n",
       "\n",
       "    .dataframe tbody tr th {\n",
       "        vertical-align: top;\n",
       "    }\n",
       "\n",
       "    .dataframe thead th {\n",
       "        text-align: right;\n",
       "    }\n",
       "</style>\n",
       "<table border=\"1\" class=\"dataframe\">\n",
       "  <thead>\n",
       "    <tr style=\"text-align: right;\">\n",
       "      <th></th>\n",
       "      <th>PassengerId</th>\n",
       "      <th>Survived</th>\n",
       "      <th>Pclass</th>\n",
       "      <th>Name</th>\n",
       "      <th>Age</th>\n",
       "      <th>SibSp</th>\n",
       "      <th>Parch</th>\n",
       "      <th>Ticket</th>\n",
       "      <th>Fare</th>\n",
       "      <th>Cabin</th>\n",
       "      <th>Embarked</th>\n",
       "      <th>Sex_female</th>\n",
       "      <th>Sex_male</th>\n",
       "    </tr>\n",
       "  </thead>\n",
       "  <tbody>\n",
       "    <tr>\n",
       "      <th>0</th>\n",
       "      <td>1</td>\n",
       "      <td>0</td>\n",
       "      <td>3</td>\n",
       "      <td>Braund, Mr. Owen Harris</td>\n",
       "      <td>22.0</td>\n",
       "      <td>1</td>\n",
       "      <td>0</td>\n",
       "      <td>A/5 21171</td>\n",
       "      <td>7.2500</td>\n",
       "      <td>unknow</td>\n",
       "      <td>S</td>\n",
       "      <td>0</td>\n",
       "      <td>1</td>\n",
       "    </tr>\n",
       "    <tr>\n",
       "      <th>1</th>\n",
       "      <td>2</td>\n",
       "      <td>1</td>\n",
       "      <td>1</td>\n",
       "      <td>Cumings, Mrs. John Bradley (Florence Briggs Th...</td>\n",
       "      <td>38.0</td>\n",
       "      <td>1</td>\n",
       "      <td>0</td>\n",
       "      <td>PC 17599</td>\n",
       "      <td>71.2833</td>\n",
       "      <td>C85</td>\n",
       "      <td>C</td>\n",
       "      <td>1</td>\n",
       "      <td>0</td>\n",
       "    </tr>\n",
       "    <tr>\n",
       "      <th>2</th>\n",
       "      <td>3</td>\n",
       "      <td>1</td>\n",
       "      <td>3</td>\n",
       "      <td>Heikkinen, Miss. Laina</td>\n",
       "      <td>26.0</td>\n",
       "      <td>0</td>\n",
       "      <td>0</td>\n",
       "      <td>STON/O2. 3101282</td>\n",
       "      <td>7.9250</td>\n",
       "      <td>unknow</td>\n",
       "      <td>S</td>\n",
       "      <td>1</td>\n",
       "      <td>0</td>\n",
       "    </tr>\n",
       "    <tr>\n",
       "      <th>3</th>\n",
       "      <td>4</td>\n",
       "      <td>1</td>\n",
       "      <td>1</td>\n",
       "      <td>Futrelle, Mrs. Jacques Heath (Lily May Peel)</td>\n",
       "      <td>35.0</td>\n",
       "      <td>1</td>\n",
       "      <td>0</td>\n",
       "      <td>113803</td>\n",
       "      <td>53.1000</td>\n",
       "      <td>C123</td>\n",
       "      <td>S</td>\n",
       "      <td>1</td>\n",
       "      <td>0</td>\n",
       "    </tr>\n",
       "    <tr>\n",
       "      <th>4</th>\n",
       "      <td>5</td>\n",
       "      <td>0</td>\n",
       "      <td>3</td>\n",
       "      <td>Allen, Mr. William Henry</td>\n",
       "      <td>35.0</td>\n",
       "      <td>0</td>\n",
       "      <td>0</td>\n",
       "      <td>373450</td>\n",
       "      <td>8.0500</td>\n",
       "      <td>unknow</td>\n",
       "      <td>S</td>\n",
       "      <td>0</td>\n",
       "      <td>1</td>\n",
       "    </tr>\n",
       "  </tbody>\n",
       "</table>\n",
       "</div>"
      ],
      "text/plain": [
       "   PassengerId  Survived  Pclass  \\\n",
       "0            1         0       3   \n",
       "1            2         1       1   \n",
       "2            3         1       3   \n",
       "3            4         1       1   \n",
       "4            5         0       3   \n",
       "\n",
       "                                                Name   Age  SibSp  Parch  \\\n",
       "0                            Braund, Mr. Owen Harris  22.0      1      0   \n",
       "1  Cumings, Mrs. John Bradley (Florence Briggs Th...  38.0      1      0   \n",
       "2                             Heikkinen, Miss. Laina  26.0      0      0   \n",
       "3       Futrelle, Mrs. Jacques Heath (Lily May Peel)  35.0      1      0   \n",
       "4                           Allen, Mr. William Henry  35.0      0      0   \n",
       "\n",
       "             Ticket     Fare   Cabin Embarked  Sex_female  Sex_male  \n",
       "0         A/5 21171   7.2500  unknow        S           0         1  \n",
       "1          PC 17599  71.2833     C85        C           1         0  \n",
       "2  STON/O2. 3101282   7.9250  unknow        S           1         0  \n",
       "3            113803  53.1000    C123        S           1         0  \n",
       "4            373450   8.0500  unknow        S           0         1  "
      ]
     },
     "execution_count": 20,
     "metadata": {},
     "output_type": "execute_result"
    }
   ],
   "source": [
    "#Chuyển giá trị male và female của cột Sex thành 2 số 0 1\n",
    "train_dt = pd.get_dummies(train_dt, columns=['Sex'])\n",
    "train_dt.head()"
   ]
  },
  {
   "cell_type": "code",
   "execution_count": 21,
   "metadata": {},
   "outputs": [
    {
     "data": {
      "text/html": [
       "<div>\n",
       "<style scoped>\n",
       "    .dataframe tbody tr th:only-of-type {\n",
       "        vertical-align: middle;\n",
       "    }\n",
       "\n",
       "    .dataframe tbody tr th {\n",
       "        vertical-align: top;\n",
       "    }\n",
       "\n",
       "    .dataframe thead th {\n",
       "        text-align: right;\n",
       "    }\n",
       "</style>\n",
       "<table border=\"1\" class=\"dataframe\">\n",
       "  <thead>\n",
       "    <tr style=\"text-align: right;\">\n",
       "      <th></th>\n",
       "      <th>PassengerId</th>\n",
       "      <th>Survived</th>\n",
       "      <th>Pclass</th>\n",
       "      <th>Name</th>\n",
       "      <th>Age</th>\n",
       "      <th>SibSp</th>\n",
       "      <th>Parch</th>\n",
       "      <th>Ticket</th>\n",
       "      <th>Fare</th>\n",
       "      <th>Cabin</th>\n",
       "      <th>Sex_female</th>\n",
       "      <th>Sex_male</th>\n",
       "      <th>Embarked_C</th>\n",
       "      <th>Embarked_Q</th>\n",
       "      <th>Embarked_S</th>\n",
       "    </tr>\n",
       "  </thead>\n",
       "  <tbody>\n",
       "    <tr>\n",
       "      <th>0</th>\n",
       "      <td>1</td>\n",
       "      <td>0</td>\n",
       "      <td>3</td>\n",
       "      <td>Braund, Mr. Owen Harris</td>\n",
       "      <td>22.0</td>\n",
       "      <td>1</td>\n",
       "      <td>0</td>\n",
       "      <td>A/5 21171</td>\n",
       "      <td>7.2500</td>\n",
       "      <td>unknow</td>\n",
       "      <td>0</td>\n",
       "      <td>1</td>\n",
       "      <td>0</td>\n",
       "      <td>0</td>\n",
       "      <td>1</td>\n",
       "    </tr>\n",
       "    <tr>\n",
       "      <th>1</th>\n",
       "      <td>2</td>\n",
       "      <td>1</td>\n",
       "      <td>1</td>\n",
       "      <td>Cumings, Mrs. John Bradley (Florence Briggs Th...</td>\n",
       "      <td>38.0</td>\n",
       "      <td>1</td>\n",
       "      <td>0</td>\n",
       "      <td>PC 17599</td>\n",
       "      <td>71.2833</td>\n",
       "      <td>C85</td>\n",
       "      <td>1</td>\n",
       "      <td>0</td>\n",
       "      <td>1</td>\n",
       "      <td>0</td>\n",
       "      <td>0</td>\n",
       "    </tr>\n",
       "    <tr>\n",
       "      <th>2</th>\n",
       "      <td>3</td>\n",
       "      <td>1</td>\n",
       "      <td>3</td>\n",
       "      <td>Heikkinen, Miss. Laina</td>\n",
       "      <td>26.0</td>\n",
       "      <td>0</td>\n",
       "      <td>0</td>\n",
       "      <td>STON/O2. 3101282</td>\n",
       "      <td>7.9250</td>\n",
       "      <td>unknow</td>\n",
       "      <td>1</td>\n",
       "      <td>0</td>\n",
       "      <td>0</td>\n",
       "      <td>0</td>\n",
       "      <td>1</td>\n",
       "    </tr>\n",
       "    <tr>\n",
       "      <th>3</th>\n",
       "      <td>4</td>\n",
       "      <td>1</td>\n",
       "      <td>1</td>\n",
       "      <td>Futrelle, Mrs. Jacques Heath (Lily May Peel)</td>\n",
       "      <td>35.0</td>\n",
       "      <td>1</td>\n",
       "      <td>0</td>\n",
       "      <td>113803</td>\n",
       "      <td>53.1000</td>\n",
       "      <td>C123</td>\n",
       "      <td>1</td>\n",
       "      <td>0</td>\n",
       "      <td>0</td>\n",
       "      <td>0</td>\n",
       "      <td>1</td>\n",
       "    </tr>\n",
       "    <tr>\n",
       "      <th>4</th>\n",
       "      <td>5</td>\n",
       "      <td>0</td>\n",
       "      <td>3</td>\n",
       "      <td>Allen, Mr. William Henry</td>\n",
       "      <td>35.0</td>\n",
       "      <td>0</td>\n",
       "      <td>0</td>\n",
       "      <td>373450</td>\n",
       "      <td>8.0500</td>\n",
       "      <td>unknow</td>\n",
       "      <td>0</td>\n",
       "      <td>1</td>\n",
       "      <td>0</td>\n",
       "      <td>0</td>\n",
       "      <td>1</td>\n",
       "    </tr>\n",
       "  </tbody>\n",
       "</table>\n",
       "</div>"
      ],
      "text/plain": [
       "   PassengerId  Survived  Pclass  \\\n",
       "0            1         0       3   \n",
       "1            2         1       1   \n",
       "2            3         1       3   \n",
       "3            4         1       1   \n",
       "4            5         0       3   \n",
       "\n",
       "                                                Name   Age  SibSp  Parch  \\\n",
       "0                            Braund, Mr. Owen Harris  22.0      1      0   \n",
       "1  Cumings, Mrs. John Bradley (Florence Briggs Th...  38.0      1      0   \n",
       "2                             Heikkinen, Miss. Laina  26.0      0      0   \n",
       "3       Futrelle, Mrs. Jacques Heath (Lily May Peel)  35.0      1      0   \n",
       "4                           Allen, Mr. William Henry  35.0      0      0   \n",
       "\n",
       "             Ticket     Fare   Cabin  Sex_female  Sex_male  Embarked_C  \\\n",
       "0         A/5 21171   7.2500  unknow           0         1           0   \n",
       "1          PC 17599  71.2833     C85           1         0           1   \n",
       "2  STON/O2. 3101282   7.9250  unknow           1         0           0   \n",
       "3            113803  53.1000    C123           1         0           0   \n",
       "4            373450   8.0500  unknow           0         1           0   \n",
       "\n",
       "   Embarked_Q  Embarked_S  \n",
       "0           0           1  \n",
       "1           0           0  \n",
       "2           0           1  \n",
       "3           0           1  \n",
       "4           0           1  "
      ]
     },
     "execution_count": 21,
     "metadata": {},
     "output_type": "execute_result"
    }
   ],
   "source": [
    "# Tiếp tục mã hoá cột \"Embarked\"\n",
    "train_dt = pd.get_dummies(train_dt, columns=['Embarked'])\n",
    "train_dt.head()"
   ]
  },
  {
   "cell_type": "code",
   "execution_count": 22,
   "metadata": {},
   "outputs": [
    {
     "data": {
      "text/html": [
       "<div>\n",
       "<style scoped>\n",
       "    .dataframe tbody tr th:only-of-type {\n",
       "        vertical-align: middle;\n",
       "    }\n",
       "\n",
       "    .dataframe tbody tr th {\n",
       "        vertical-align: top;\n",
       "    }\n",
       "\n",
       "    .dataframe thead th {\n",
       "        text-align: right;\n",
       "    }\n",
       "</style>\n",
       "<table border=\"1\" class=\"dataframe\">\n",
       "  <thead>\n",
       "    <tr style=\"text-align: right;\">\n",
       "      <th></th>\n",
       "      <th>Pclass</th>\n",
       "      <th>Age</th>\n",
       "      <th>Sex_male</th>\n",
       "      <th>Sex_female</th>\n",
       "      <th>Embarked_C</th>\n",
       "      <th>Embarked_Q</th>\n",
       "      <th>Embarked_S</th>\n",
       "      <th>Parch</th>\n",
       "      <th>SibSp</th>\n",
       "      <th>Fare</th>\n",
       "    </tr>\n",
       "  </thead>\n",
       "  <tbody>\n",
       "    <tr>\n",
       "      <th>0</th>\n",
       "      <td>3</td>\n",
       "      <td>22.0</td>\n",
       "      <td>1</td>\n",
       "      <td>0</td>\n",
       "      <td>0</td>\n",
       "      <td>0</td>\n",
       "      <td>1</td>\n",
       "      <td>0</td>\n",
       "      <td>1</td>\n",
       "      <td>7.2500</td>\n",
       "    </tr>\n",
       "    <tr>\n",
       "      <th>1</th>\n",
       "      <td>1</td>\n",
       "      <td>38.0</td>\n",
       "      <td>0</td>\n",
       "      <td>1</td>\n",
       "      <td>1</td>\n",
       "      <td>0</td>\n",
       "      <td>0</td>\n",
       "      <td>0</td>\n",
       "      <td>1</td>\n",
       "      <td>71.2833</td>\n",
       "    </tr>\n",
       "    <tr>\n",
       "      <th>2</th>\n",
       "      <td>3</td>\n",
       "      <td>26.0</td>\n",
       "      <td>0</td>\n",
       "      <td>1</td>\n",
       "      <td>0</td>\n",
       "      <td>0</td>\n",
       "      <td>1</td>\n",
       "      <td>0</td>\n",
       "      <td>0</td>\n",
       "      <td>7.9250</td>\n",
       "    </tr>\n",
       "    <tr>\n",
       "      <th>3</th>\n",
       "      <td>1</td>\n",
       "      <td>35.0</td>\n",
       "      <td>0</td>\n",
       "      <td>1</td>\n",
       "      <td>0</td>\n",
       "      <td>0</td>\n",
       "      <td>1</td>\n",
       "      <td>0</td>\n",
       "      <td>1</td>\n",
       "      <td>53.1000</td>\n",
       "    </tr>\n",
       "    <tr>\n",
       "      <th>4</th>\n",
       "      <td>3</td>\n",
       "      <td>35.0</td>\n",
       "      <td>1</td>\n",
       "      <td>0</td>\n",
       "      <td>0</td>\n",
       "      <td>0</td>\n",
       "      <td>1</td>\n",
       "      <td>0</td>\n",
       "      <td>0</td>\n",
       "      <td>8.0500</td>\n",
       "    </tr>\n",
       "  </tbody>\n",
       "</table>\n",
       "</div>"
      ],
      "text/plain": [
       "   Pclass   Age  Sex_male  Sex_female  Embarked_C  Embarked_Q  Embarked_S  \\\n",
       "0       3  22.0         1           0           0           0           1   \n",
       "1       1  38.0         0           1           1           0           0   \n",
       "2       3  26.0         0           1           0           0           1   \n",
       "3       1  35.0         0           1           0           0           1   \n",
       "4       3  35.0         1           0           0           0           1   \n",
       "\n",
       "   Parch  SibSp     Fare  \n",
       "0      0      1   7.2500  \n",
       "1      0      1  71.2833  \n",
       "2      0      0   7.9250  \n",
       "3      0      1  53.1000  \n",
       "4      0      0   8.0500  "
      ]
     },
     "execution_count": 22,
     "metadata": {},
     "output_type": "execute_result"
    }
   ],
   "source": [
    "# chọn ra các cột đem vào phân lớp \n",
    "name_colums = ['Pclass','Age', 'Sex_male', 'Sex_female', 'Embarked_C', 'Embarked_Q', 'Embarked_S', 'Parch', 'SibSp', 'Fare']\n",
    "train_class = train_dt[['Survived']]\n",
    "data_train = train_dt[name_colums]\n",
    "data_train.head()"
   ]
  },
  {
   "cell_type": "code",
   "execution_count": 23,
   "metadata": {},
   "outputs": [
    {
     "data": {
      "text/plain": [
       "[Text(160.9190625, 212.49818181818182, 'X[3] <= 0.5\\ngini = 0.462\\nsamples = 596\\nvalue = [380, 216]'),\n",
       " Text(70.040625, 202.61454545454546, 'X[1] <= 13.0\\ngini = 0.279\\nsamples = 382\\nvalue = [318, 64]'),\n",
       " Text(18.6, 192.73090909090908, 'X[8] <= 2.0\\ngini = 0.477\\nsamples = 28\\nvalue = [11, 17]'),\n",
       " Text(11.16, 182.84727272727272, 'X[7] <= 0.5\\ngini = 0.111\\nsamples = 17\\nvalue = [1, 16]'),\n",
       " Text(7.44, 172.96363636363637, 'X[8] <= 0.5\\ngini = 0.5\\nsamples = 2\\nvalue = [1, 1]'),\n",
       " Text(3.72, 163.07999999999998, 'gini = 0.0\\nsamples = 1\\nvalue = [1, 0]'),\n",
       " Text(11.16, 163.07999999999998, 'gini = 0.0\\nsamples = 1\\nvalue = [0, 1]'),\n",
       " Text(14.88, 172.96363636363637, 'gini = 0.0\\nsamples = 15\\nvalue = [0, 15]'),\n",
       " Text(26.040000000000003, 182.84727272727272, 'X[7] <= 1.5\\ngini = 0.165\\nsamples = 11\\nvalue = [10, 1]'),\n",
       " Text(22.32, 172.96363636363637, 'gini = 0.0\\nsamples = 6\\nvalue = [6, 0]'),\n",
       " Text(29.76, 172.96363636363637, 'X[1] <= 3.5\\ngini = 0.32\\nsamples = 5\\nvalue = [4, 1]'),\n",
       " Text(26.040000000000003, 163.07999999999998, 'X[8] <= 4.5\\ngini = 0.5\\nsamples = 2\\nvalue = [1, 1]'),\n",
       " Text(22.32, 153.19636363636363, 'gini = 0.0\\nsamples = 1\\nvalue = [0, 1]'),\n",
       " Text(29.76, 153.19636363636363, 'gini = 0.0\\nsamples = 1\\nvalue = [1, 0]'),\n",
       " Text(33.480000000000004, 163.07999999999998, 'gini = 0.0\\nsamples = 3\\nvalue = [3, 0]'),\n",
       " Text(121.48125, 192.73090909090908, 'X[9] <= 26.269\\ngini = 0.23\\nsamples = 354\\nvalue = [307, 47]'),\n",
       " Text(77.4225, 182.84727272727272, 'X[9] <= 15.373\\ngini = 0.163\\nsamples = 268\\nvalue = [244, 24]'),\n",
       " Text(73.7025, 172.96363636363637, 'X[9] <= 15.148\\ngini = 0.19\\nsamples = 226\\nvalue = [202, 24]'),\n",
       " Text(69.9825, 163.07999999999998, 'X[9] <= 7.744\\ngini = 0.177\\nsamples = 224\\nvalue = [202, 22]'),\n",
       " Text(37.2, 153.19636363636363, 'X[1] <= 27.35\\ngini = 0.097\\nsamples = 59\\nvalue = [56, 3]'),\n",
       " Text(29.76, 143.31272727272727, 'X[9] <= 3.248\\ngini = 0.188\\nsamples = 19\\nvalue = [17, 2]'),\n",
       " Text(26.040000000000003, 133.42909090909092, 'gini = 0.0\\nsamples = 1\\nvalue = [0, 1]'),\n",
       " Text(33.480000000000004, 133.42909090909092, 'X[4] <= 0.5\\ngini = 0.105\\nsamples = 18\\nvalue = [17, 1]'),\n",
       " Text(29.76, 123.54545454545455, 'gini = 0.0\\nsamples = 14\\nvalue = [14, 0]'),\n",
       " Text(37.2, 123.54545454545455, 'X[8] <= 0.5\\ngini = 0.375\\nsamples = 4\\nvalue = [3, 1]'),\n",
       " Text(33.480000000000004, 113.66181818181819, 'X[1] <= 23.5\\ngini = 0.5\\nsamples = 2\\nvalue = [1, 1]'),\n",
       " Text(29.76, 103.77818181818182, 'gini = 0.0\\nsamples = 1\\nvalue = [0, 1]'),\n",
       " Text(37.2, 103.77818181818182, 'gini = 0.0\\nsamples = 1\\nvalue = [1, 0]'),\n",
       " Text(40.92, 113.66181818181819, 'gini = 0.0\\nsamples = 2\\nvalue = [2, 0]'),\n",
       " Text(44.64, 143.31272727272727, 'X[4] <= 0.5\\ngini = 0.049\\nsamples = 40\\nvalue = [39, 1]'),\n",
       " Text(40.92, 133.42909090909092, 'gini = 0.0\\nsamples = 25\\nvalue = [25, 0]'),\n",
       " Text(48.36, 133.42909090909092, 'X[9] <= 7.227\\ngini = 0.124\\nsamples = 15\\nvalue = [14, 1]'),\n",
       " Text(44.64, 123.54545454545455, 'gini = 0.0\\nsamples = 9\\nvalue = [9, 0]'),\n",
       " Text(52.080000000000005, 123.54545454545455, 'gini = 0.278\\nsamples = 6\\nvalue = [5, 1]'),\n",
       " Text(102.765, 153.19636363636363, 'X[9] <= 7.988\\ngini = 0.204\\nsamples = 165\\nvalue = [146, 19]'),\n",
       " Text(79.05, 143.31272727272727, 'X[9] <= 7.91\\ngini = 0.278\\nsamples = 66\\nvalue = [55, 11]'),\n",
       " Text(63.24, 133.42909090909092, 'X[9] <= 7.865\\ngini = 0.194\\nsamples = 55\\nvalue = [49, 6]'),\n",
       " Text(59.52, 123.54545454545455, 'X[1] <= 20.0\\ngini = 0.305\\nsamples = 32\\nvalue = [26, 6]'),\n",
       " Text(55.800000000000004, 113.66181818181819, 'gini = 0.0\\nsamples = 4\\nvalue = [4, 0]'),\n",
       " Text(63.24, 113.66181818181819, 'X[1] <= 32.5\\ngini = 0.337\\nsamples = 28\\nvalue = [22, 6]'),\n",
       " Text(59.52, 103.77818181818182, 'X[6] <= 0.5\\ngini = 0.375\\nsamples = 24\\nvalue = [18, 6]'),\n",
       " Text(50.220000000000006, 93.89454545454547, 'X[1] <= 29.35\\ngini = 0.198\\nsamples = 9\\nvalue = [8, 1]'),\n",
       " Text(46.5, 84.01090909090911, 'gini = 0.0\\nsamples = 1\\nvalue = [0, 1]'),\n",
       " Text(53.940000000000005, 84.01090909090911, 'gini = 0.0\\nsamples = 8\\nvalue = [8, 0]'),\n",
       " Text(68.82000000000001, 93.89454545454547, 'X[1] <= 26.5\\ngini = 0.444\\nsamples = 15\\nvalue = [10, 5]'),\n",
       " Text(61.38, 84.01090909090911, 'X[8] <= 0.5\\ngini = 0.32\\nsamples = 10\\nvalue = [8, 2]'),\n",
       " Text(57.660000000000004, 74.12727272727273, 'X[1] <= 21.5\\ngini = 0.219\\nsamples = 8\\nvalue = [7, 1]'),\n",
       " Text(53.940000000000005, 64.24363636363637, 'X[9] <= 7.798\\ngini = 0.375\\nsamples = 4\\nvalue = [3, 1]'),\n",
       " Text(50.220000000000006, 54.360000000000014, 'X[9] <= 7.785\\ngini = 0.5\\nsamples = 2\\nvalue = [1, 1]'),\n",
       " Text(46.5, 44.47636363636366, 'gini = 0.0\\nsamples = 1\\nvalue = [1, 0]'),\n",
       " Text(53.940000000000005, 44.47636363636366, 'gini = 0.0\\nsamples = 1\\nvalue = [0, 1]'),\n",
       " Text(57.660000000000004, 54.360000000000014, 'gini = 0.0\\nsamples = 2\\nvalue = [2, 0]'),\n",
       " Text(61.38, 64.24363636363637, 'gini = 0.0\\nsamples = 4\\nvalue = [4, 0]'),\n",
       " Text(65.10000000000001, 74.12727272727273, 'gini = 0.5\\nsamples = 2\\nvalue = [1, 1]'),\n",
       " Text(76.26, 84.01090909090911, 'X[1] <= 27.5\\ngini = 0.48\\nsamples = 5\\nvalue = [2, 3]'),\n",
       " Text(72.54, 74.12727272727273, 'gini = 0.0\\nsamples = 1\\nvalue = [0, 1]'),\n",
       " Text(79.98, 74.12727272727273, 'X[1] <= 28.85\\ngini = 0.5\\nsamples = 4\\nvalue = [2, 2]'),\n",
       " Text(76.26, 64.24363636363637, 'gini = 0.0\\nsamples = 1\\nvalue = [1, 0]'),\n",
       " Text(83.7, 64.24363636363637, 'X[1] <= 30.85\\ngini = 0.444\\nsamples = 3\\nvalue = [1, 2]'),\n",
       " Text(79.98, 54.360000000000014, 'gini = 0.5\\nsamples = 2\\nvalue = [1, 1]'),\n",
       " Text(87.42, 54.360000000000014, 'gini = 0.0\\nsamples = 1\\nvalue = [0, 1]'),\n",
       " Text(66.96000000000001, 103.77818181818182, 'gini = 0.0\\nsamples = 4\\nvalue = [4, 0]'),\n",
       " Text(66.96000000000001, 123.54545454545455, 'gini = 0.0\\nsamples = 23\\nvalue = [23, 0]'),\n",
       " Text(94.86, 133.42909090909092, 'X[1] <= 35.5\\ngini = 0.496\\nsamples = 11\\nvalue = [6, 5]'),\n",
       " Text(91.14, 123.54545454545455, 'X[1] <= 29.5\\ngini = 0.444\\nsamples = 9\\nvalue = [6, 3]'),\n",
       " Text(83.7, 113.66181818181819, 'X[1] <= 20.5\\ngini = 0.32\\nsamples = 5\\nvalue = [4, 1]'),\n",
       " Text(79.98, 103.77818181818182, 'X[8] <= 0.5\\ngini = 0.5\\nsamples = 2\\nvalue = [1, 1]'),\n",
       " Text(76.26, 93.89454545454547, 'gini = 0.0\\nsamples = 1\\nvalue = [1, 0]'),\n",
       " Text(83.7, 93.89454545454547, 'gini = 0.0\\nsamples = 1\\nvalue = [0, 1]'),\n",
       " Text(87.42, 103.77818181818182, 'gini = 0.0\\nsamples = 3\\nvalue = [3, 0]'),\n",
       " Text(98.58, 113.66181818181819, 'X[1] <= 31.5\\ngini = 0.5\\nsamples = 4\\nvalue = [2, 2]'),\n",
       " Text(94.86, 103.77818181818182, 'gini = 0.0\\nsamples = 1\\nvalue = [0, 1]'),\n",
       " Text(102.30000000000001, 103.77818181818182, 'gini = 0.444\\nsamples = 3\\nvalue = [2, 1]'),\n",
       " Text(98.58, 123.54545454545455, 'gini = 0.0\\nsamples = 2\\nvalue = [0, 2]'),\n",
       " Text(126.48, 143.31272727272727, 'X[1] <= 60.5\\ngini = 0.149\\nsamples = 99\\nvalue = [91, 8]'),\n",
       " Text(117.18, 133.42909090909092, 'X[1] <= 19.5\\ngini = 0.134\\nsamples = 97\\nvalue = [90, 7]'),\n",
       " Text(109.74000000000001, 123.54545454545455, 'X[1] <= 17.5\\ngini = 0.32\\nsamples = 10\\nvalue = [8, 2]'),\n",
       " Text(106.02000000000001, 113.66181818181819, 'gini = 0.0\\nsamples = 5\\nvalue = [5, 0]'),\n",
       " Text(113.46000000000001, 113.66181818181819, 'X[9] <= 9.11\\ngini = 0.48\\nsamples = 5\\nvalue = [3, 2]'),\n",
       " Text(109.74000000000001, 103.77818181818182, 'gini = 0.0\\nsamples = 1\\nvalue = [0, 1]'),\n",
       " Text(117.18, 103.77818181818182, 'X[0] <= 2.5\\ngini = 0.375\\nsamples = 4\\nvalue = [3, 1]'),\n",
       " Text(113.46000000000001, 93.89454545454547, 'X[1] <= 18.5\\ngini = 0.444\\nsamples = 3\\nvalue = [2, 1]'),\n",
       " Text(109.74000000000001, 84.01090909090911, 'gini = 0.0\\nsamples = 1\\nvalue = [1, 0]'),\n",
       " Text(117.18, 84.01090909090911, 'gini = 0.5\\nsamples = 2\\nvalue = [1, 1]'),\n",
       " Text(120.9, 93.89454545454547, 'gini = 0.0\\nsamples = 1\\nvalue = [1, 0]'),\n",
       " Text(124.62, 123.54545454545455, 'X[9] <= 8.081\\ngini = 0.108\\nsamples = 87\\nvalue = [82, 5]'),\n",
       " Text(120.9, 113.66181818181819, 'gini = 0.0\\nsamples = 24\\nvalue = [24, 0]'),\n",
       " Text(128.34, 113.66181818181819, 'X[9] <= 8.238\\ngini = 0.146\\nsamples = 63\\nvalue = [58, 5]'),\n",
       " Text(124.62, 103.77818181818182, 'gini = 0.0\\nsamples = 1\\nvalue = [0, 1]'),\n",
       " Text(132.06, 103.77818181818182, 'X[1] <= 26.5\\ngini = 0.121\\nsamples = 62\\nvalue = [58, 4]'),\n",
       " Text(128.34, 93.89454545454547, 'gini = 0.0\\nsamples = 16\\nvalue = [16, 0]'),\n",
       " Text(135.78, 93.89454545454547, 'X[1] <= 27.5\\ngini = 0.159\\nsamples = 46\\nvalue = [42, 4]'),\n",
       " Text(132.06, 84.01090909090911, 'gini = 0.0\\nsamples = 1\\nvalue = [0, 1]'),\n",
       " Text(139.5, 84.01090909090911, 'X[9] <= 12.762\\ngini = 0.124\\nsamples = 45\\nvalue = [42, 3]'),\n",
       " Text(135.78, 74.12727272727273, 'gini = 0.0\\nsamples = 21\\nvalue = [21, 0]'),\n",
       " Text(143.22, 74.12727272727273, 'X[1] <= 36.5\\ngini = 0.219\\nsamples = 24\\nvalue = [21, 3]'),\n",
       " Text(139.5, 64.24363636363637, 'X[9] <= 14.131\\ngini = 0.32\\nsamples = 15\\nvalue = [12, 3]'),\n",
       " Text(135.78, 54.360000000000014, 'X[6] <= 0.5\\ngini = 0.42\\nsamples = 10\\nvalue = [7, 3]'),\n",
       " Text(132.06, 44.47636363636366, 'gini = 0.0\\nsamples = 1\\nvalue = [0, 1]'),\n",
       " Text(139.5, 44.47636363636366, 'X[1] <= 28.85\\ngini = 0.346\\nsamples = 9\\nvalue = [7, 2]'),\n",
       " Text(135.78, 34.592727272727274, 'gini = 0.0\\nsamples = 2\\nvalue = [2, 0]'),\n",
       " Text(143.22, 34.592727272727274, 'X[1] <= 29.85\\ngini = 0.408\\nsamples = 7\\nvalue = [5, 2]'),\n",
       " Text(139.5, 24.709090909090918, 'gini = 0.0\\nsamples = 1\\nvalue = [0, 1]'),\n",
       " Text(146.94, 24.709090909090918, 'X[1] <= 32.0\\ngini = 0.278\\nsamples = 6\\nvalue = [5, 1]'),\n",
       " Text(143.22, 14.825454545454562, 'gini = 0.0\\nsamples = 3\\nvalue = [3, 0]'),\n",
       " Text(150.66, 14.825454545454562, 'gini = 0.444\\nsamples = 3\\nvalue = [2, 1]'),\n",
       " Text(143.22, 54.360000000000014, 'gini = 0.0\\nsamples = 5\\nvalue = [5, 0]'),\n",
       " Text(146.94, 64.24363636363637, 'gini = 0.0\\nsamples = 9\\nvalue = [9, 0]'),\n",
       " Text(135.78, 133.42909090909092, 'X[1] <= 64.0\\ngini = 0.5\\nsamples = 2\\nvalue = [1, 1]'),\n",
       " Text(132.06, 123.54545454545455, 'gini = 0.0\\nsamples = 1\\nvalue = [0, 1]'),\n",
       " Text(139.5, 123.54545454545455, 'gini = 0.0\\nsamples = 1\\nvalue = [1, 0]'),\n",
       " Text(77.4225, 163.07999999999998, 'gini = 0.0\\nsamples = 2\\nvalue = [0, 2]'),\n",
       " Text(81.1425, 172.96363636363637, 'gini = 0.0\\nsamples = 42\\nvalue = [42, 0]'),\n",
       " Text(165.54000000000002, 182.84727272727272, 'X[9] <= 26.775\\ngini = 0.392\\nsamples = 86\\nvalue = [63, 23]'),\n",
       " Text(156.24, 172.96363636363637, 'X[1] <= 55.5\\ngini = 0.444\\nsamples = 9\\nvalue = [3, 6]'),\n",
       " Text(152.52, 163.07999999999998, 'gini = 0.0\\nsamples = 6\\nvalue = [0, 6]'),\n",
       " Text(159.96, 163.07999999999998, 'gini = 0.0\\nsamples = 3\\nvalue = [3, 0]'),\n",
       " Text(174.84, 172.96363636363637, 'X[7] <= 0.5\\ngini = 0.344\\nsamples = 77\\nvalue = [60, 17]'),\n",
       " Text(167.4, 163.07999999999998, 'X[0] <= 2.5\\ngini = 0.406\\nsamples = 53\\nvalue = [38, 15]'),\n",
       " Text(163.68, 153.19636363636363, 'X[9] <= 310.615\\ngini = 0.38\\nsamples = 51\\nvalue = [38, 13]'),\n",
       " Text(159.96, 143.31272727272727, 'X[1] <= 24.5\\ngini = 0.365\\nsamples = 50\\nvalue = [38, 12]'),\n",
       " Text(156.24, 133.42909090909092, 'gini = 0.0\\nsamples = 6\\nvalue = [6, 0]'),\n",
       " Text(163.68, 133.42909090909092, 'X[1] <= 27.5\\ngini = 0.397\\nsamples = 44\\nvalue = [32, 12]'),\n",
       " Text(159.96, 123.54545454545455, 'gini = 0.0\\nsamples = 3\\nvalue = [0, 3]'),\n",
       " Text(167.4, 123.54545454545455, 'X[1] <= 53.0\\ngini = 0.343\\nsamples = 41\\nvalue = [32, 9]'),\n",
       " Text(163.68, 113.66181818181819, 'X[1] <= 51.0\\ngini = 0.382\\nsamples = 35\\nvalue = [26, 9]'),\n",
       " Text(159.96, 103.77818181818182, 'X[9] <= 29.1\\ngini = 0.36\\nsamples = 34\\nvalue = [26, 8]'),\n",
       " Text(156.24, 93.89454545454547, 'gini = 0.0\\nsamples = 5\\nvalue = [5, 0]'),\n",
       " Text(163.68, 93.89454545454547, 'X[9] <= 30.598\\ngini = 0.4\\nsamples = 29\\nvalue = [21, 8]'),\n",
       " Text(154.38, 84.01090909090911, 'X[1] <= 29.35\\ngini = 0.375\\nsamples = 4\\nvalue = [1, 3]'),\n",
       " Text(150.66, 74.12727272727273, 'gini = 0.0\\nsamples = 1\\nvalue = [1, 0]'),\n",
       " Text(158.1, 74.12727272727273, 'gini = 0.0\\nsamples = 3\\nvalue = [0, 3]'),\n",
       " Text(172.98000000000002, 84.01090909090911, 'X[8] <= 0.5\\ngini = 0.32\\nsamples = 25\\nvalue = [20, 5]'),\n",
       " Text(165.54000000000002, 74.12727272727273, 'X[9] <= 37.0\\ngini = 0.142\\nsamples = 13\\nvalue = [12, 1]'),\n",
       " Text(161.82000000000002, 64.24363636363637, 'X[9] <= 35.25\\ngini = 0.278\\nsamples = 6\\nvalue = [5, 1]'),\n",
       " Text(158.1, 54.360000000000014, 'gini = 0.0\\nsamples = 4\\nvalue = [4, 0]'),\n",
       " Text(165.54000000000002, 54.360000000000014, 'X[1] <= 37.35\\ngini = 0.5\\nsamples = 2\\nvalue = [1, 1]'),\n",
       " Text(161.82000000000002, 44.47636363636366, 'gini = 0.0\\nsamples = 1\\nvalue = [0, 1]'),\n",
       " Text(169.26000000000002, 44.47636363636366, 'gini = 0.0\\nsamples = 1\\nvalue = [1, 0]'),\n",
       " Text(169.26000000000002, 64.24363636363637, 'gini = 0.0\\nsamples = 7\\nvalue = [7, 0]'),\n",
       " Text(180.42000000000002, 74.12727272727273, 'X[1] <= 30.0\\ngini = 0.444\\nsamples = 12\\nvalue = [8, 4]'),\n",
       " Text(176.70000000000002, 64.24363636363637, 'gini = 0.0\\nsamples = 2\\nvalue = [2, 0]'),\n",
       " Text(184.14000000000001, 64.24363636363637, 'X[1] <= 31.5\\ngini = 0.48\\nsamples = 10\\nvalue = [6, 4]'),\n",
       " Text(180.42000000000002, 54.360000000000014, 'gini = 0.0\\nsamples = 1\\nvalue = [0, 1]'),\n",
       " Text(187.86, 54.360000000000014, 'X[1] <= 37.0\\ngini = 0.444\\nsamples = 9\\nvalue = [6, 3]'),\n",
       " Text(184.14000000000001, 44.47636363636366, 'gini = 0.0\\nsamples = 2\\nvalue = [2, 0]'),\n",
       " Text(191.58, 44.47636363636366, 'X[1] <= 49.0\\ngini = 0.49\\nsamples = 7\\nvalue = [4, 3]'),\n",
       " Text(187.86, 34.592727272727274, 'X[9] <= 52.277\\ngini = 0.48\\nsamples = 5\\nvalue = [2, 3]'),\n",
       " Text(184.14000000000001, 24.709090909090918, 'gini = 0.0\\nsamples = 1\\nvalue = [1, 0]'),\n",
       " Text(191.58, 24.709090909090918, 'X[1] <= 43.5\\ngini = 0.375\\nsamples = 4\\nvalue = [1, 3]'),\n",
       " Text(187.86, 14.825454545454562, 'gini = 0.0\\nsamples = 2\\nvalue = [0, 2]'),\n",
       " Text(195.3, 14.825454545454562, 'X[4] <= 0.5\\ngini = 0.5\\nsamples = 2\\nvalue = [1, 1]'),\n",
       " Text(191.58, 4.941818181818206, 'gini = 0.0\\nsamples = 1\\nvalue = [1, 0]'),\n",
       " Text(199.02, 4.941818181818206, 'gini = 0.0\\nsamples = 1\\nvalue = [0, 1]'),\n",
       " Text(195.3, 34.592727272727274, 'gini = 0.0\\nsamples = 2\\nvalue = [2, 0]'),\n",
       " Text(167.4, 103.77818181818182, 'gini = 0.0\\nsamples = 1\\nvalue = [0, 1]'),\n",
       " Text(171.12, 113.66181818181819, 'gini = 0.0\\nsamples = 6\\nvalue = [6, 0]'),\n",
       " Text(167.4, 143.31272727272727, 'gini = 0.0\\nsamples = 1\\nvalue = [0, 1]'),\n",
       " Text(171.12, 153.19636363636363, 'gini = 0.0\\nsamples = 2\\nvalue = [0, 2]'),\n",
       " Text(182.28, 163.07999999999998, 'X[9] <= 78.244\\ngini = 0.153\\nsamples = 24\\nvalue = [22, 2]'),\n",
       " Text(178.56, 153.19636363636363, 'gini = 0.0\\nsamples = 16\\nvalue = [16, 0]'),\n",
       " Text(186.0, 153.19636363636363, 'X[9] <= 79.425\\ngini = 0.375\\nsamples = 8\\nvalue = [6, 2]'),\n",
       " Text(182.28, 143.31272727272727, 'gini = 0.0\\nsamples = 1\\nvalue = [0, 1]'),\n",
       " Text(189.72, 143.31272727272727, 'X[1] <= 20.5\\ngini = 0.245\\nsamples = 7\\nvalue = [6, 1]'),\n",
       " Text(186.0, 133.42909090909092, 'gini = 0.0\\nsamples = 1\\nvalue = [0, 1]'),\n",
       " Text(193.44, 133.42909090909092, 'gini = 0.0\\nsamples = 6\\nvalue = [6, 0]'),\n",
       " Text(251.7975, 202.61454545454546, 'X[0] <= 2.5\\ngini = 0.412\\nsamples = 214\\nvalue = [62, 152]'),\n",
       " Text(223.20000000000002, 192.73090909090908, 'X[9] <= 29.356\\ngini = 0.099\\nsamples = 115\\nvalue = [6, 109]'),\n",
       " Text(215.76000000000002, 182.84727272727272, 'X[9] <= 28.231\\ngini = 0.183\\nsamples = 49\\nvalue = [5, 44]'),\n",
       " Text(212.04000000000002, 172.96363636363637, 'X[1] <= 55.5\\ngini = 0.153\\nsamples = 48\\nvalue = [4, 44]'),\n",
       " Text(208.32000000000002, 163.07999999999998, 'X[1] <= 37.0\\ngini = 0.12\\nsamples = 47\\nvalue = [3, 44]'),\n",
       " Text(200.88000000000002, 153.19636363636363, 'X[8] <= 0.5\\ngini = 0.057\\nsamples = 34\\nvalue = [1, 33]'),\n",
       " Text(197.16, 143.31272727272727, 'gini = 0.0\\nsamples = 23\\nvalue = [0, 23]'),\n",
       " Text(204.60000000000002, 143.31272727272727, 'X[1] <= 26.5\\ngini = 0.165\\nsamples = 11\\nvalue = [1, 10]'),\n",
       " Text(200.88000000000002, 133.42909090909092, 'X[1] <= 25.0\\ngini = 0.32\\nsamples = 5\\nvalue = [1, 4]'),\n",
       " Text(197.16, 123.54545454545455, 'gini = 0.0\\nsamples = 4\\nvalue = [0, 4]'),\n",
       " Text(204.60000000000002, 123.54545454545455, 'gini = 0.0\\nsamples = 1\\nvalue = [1, 0]'),\n",
       " Text(208.32000000000002, 133.42909090909092, 'gini = 0.0\\nsamples = 6\\nvalue = [0, 6]'),\n",
       " Text(215.76000000000002, 153.19636363636363, 'X[1] <= 39.0\\ngini = 0.26\\nsamples = 13\\nvalue = [2, 11]'),\n",
       " Text(212.04000000000002, 143.31272727272727, 'gini = 0.0\\nsamples = 1\\nvalue = [1, 0]'),\n",
       " Text(219.48000000000002, 143.31272727272727, 'X[8] <= 0.5\\ngini = 0.153\\nsamples = 12\\nvalue = [1, 11]'),\n",
       " Text(215.76000000000002, 133.42909090909092, 'gini = 0.0\\nsamples = 8\\nvalue = [0, 8]'),\n",
       " Text(223.20000000000002, 133.42909090909092, 'X[7] <= 0.5\\ngini = 0.375\\nsamples = 4\\nvalue = [1, 3]'),\n",
       " Text(219.48000000000002, 123.54545454545455, 'X[1] <= 43.0\\ngini = 0.5\\nsamples = 2\\nvalue = [1, 1]'),\n",
       " Text(215.76000000000002, 113.66181818181819, 'gini = 0.0\\nsamples = 1\\nvalue = [0, 1]'),\n",
       " Text(223.20000000000002, 113.66181818181819, 'gini = 0.0\\nsamples = 1\\nvalue = [1, 0]'),\n",
       " Text(226.92000000000002, 123.54545454545455, 'gini = 0.0\\nsamples = 2\\nvalue = [0, 2]'),\n",
       " Text(215.76000000000002, 163.07999999999998, 'gini = 0.0\\nsamples = 1\\nvalue = [1, 0]'),\n",
       " Text(219.48000000000002, 172.96363636363637, 'gini = 0.0\\nsamples = 1\\nvalue = [1, 0]'),\n",
       " Text(230.64000000000001, 182.84727272727272, 'X[7] <= 1.5\\ngini = 0.03\\nsamples = 66\\nvalue = [1, 65]'),\n",
       " Text(226.92000000000002, 172.96363636363637, 'gini = 0.0\\nsamples = 58\\nvalue = [0, 58]'),\n",
       " Text(234.36, 172.96363636363637, 'X[1] <= 24.5\\ngini = 0.219\\nsamples = 8\\nvalue = [1, 7]'),\n",
       " Text(230.64000000000001, 163.07999999999998, 'gini = 0.0\\nsamples = 5\\nvalue = [0, 5]'),\n",
       " Text(238.08, 163.07999999999998, 'X[9] <= 111.275\\ngini = 0.444\\nsamples = 3\\nvalue = [1, 2]'),\n",
       " Text(234.36, 153.19636363636363, 'gini = 0.0\\nsamples = 2\\nvalue = [0, 2]'),\n",
       " Text(241.8, 153.19636363636363, 'gini = 0.0\\nsamples = 1\\nvalue = [1, 0]'),\n",
       " Text(280.39500000000004, 192.73090909090908, 'X[6] <= 0.5\\ngini = 0.491\\nsamples = 99\\nvalue = [56, 43]'),\n",
       " Text(260.40000000000003, 182.84727272727272, 'X[1] <= 30.1\\ngini = 0.432\\nsamples = 38\\nvalue = [12, 26]'),\n",
       " Text(256.68, 172.96363636363637, 'X[9] <= 15.373\\ngini = 0.382\\nsamples = 35\\nvalue = [9, 26]'),\n",
       " Text(252.96, 163.07999999999998, 'X[9] <= 14.456\\ngini = 0.444\\nsamples = 27\\nvalue = [9, 18]'),\n",
       " Text(249.24, 153.19636363636363, 'X[9] <= 6.987\\ngini = 0.375\\nsamples = 24\\nvalue = [6, 18]'),\n",
       " Text(245.52, 143.31272727272727, 'gini = 0.0\\nsamples = 1\\nvalue = [1, 0]'),\n",
       " Text(252.96, 143.31272727272727, 'X[7] <= 1.5\\ngini = 0.34\\nsamples = 23\\nvalue = [5, 18]'),\n",
       " Text(249.24, 133.42909090909092, 'X[9] <= 8.008\\ngini = 0.298\\nsamples = 22\\nvalue = [4, 18]'),\n",
       " Text(241.8, 123.54545454545455, 'X[1] <= 20.0\\ngini = 0.208\\nsamples = 17\\nvalue = [2, 15]'),\n",
       " Text(238.08, 113.66181818181819, 'gini = 0.0\\nsamples = 4\\nvalue = [0, 4]'),\n",
       " Text(245.52, 113.66181818181819, 'X[1] <= 21.5\\ngini = 0.26\\nsamples = 13\\nvalue = [2, 11]'),\n",
       " Text(241.8, 103.77818181818182, 'gini = 0.0\\nsamples = 1\\nvalue = [1, 0]'),\n",
       " Text(249.24, 103.77818181818182, 'X[9] <= 7.69\\ngini = 0.153\\nsamples = 12\\nvalue = [1, 11]'),\n",
       " Text(245.52, 93.89454545454547, 'X[4] <= 0.5\\ngini = 0.444\\nsamples = 3\\nvalue = [1, 2]'),\n",
       " Text(241.8, 84.01090909090911, 'gini = 0.0\\nsamples = 1\\nvalue = [1, 0]'),\n",
       " Text(249.24, 84.01090909090911, 'gini = 0.0\\nsamples = 2\\nvalue = [0, 2]'),\n",
       " Text(252.96, 93.89454545454547, 'gini = 0.0\\nsamples = 9\\nvalue = [0, 9]'),\n",
       " Text(256.68, 123.54545454545455, 'X[1] <= 14.25\\ngini = 0.48\\nsamples = 5\\nvalue = [2, 3]'),\n",
       " Text(252.96, 113.66181818181819, 'gini = 0.0\\nsamples = 2\\nvalue = [0, 2]'),\n",
       " Text(260.40000000000003, 113.66181818181819, 'X[8] <= 0.5\\ngini = 0.444\\nsamples = 3\\nvalue = [2, 1]'),\n",
       " Text(256.68, 103.77818181818182, 'gini = 0.0\\nsamples = 1\\nvalue = [1, 0]'),\n",
       " Text(264.12, 103.77818181818182, 'X[1] <= 14.75\\ngini = 0.5\\nsamples = 2\\nvalue = [1, 1]'),\n",
       " Text(260.40000000000003, 93.89454545454547, 'gini = 0.0\\nsamples = 1\\nvalue = [1, 0]'),\n",
       " Text(267.84000000000003, 93.89454545454547, 'gini = 0.0\\nsamples = 1\\nvalue = [0, 1]'),\n",
       " Text(256.68, 133.42909090909092, 'gini = 0.0\\nsamples = 1\\nvalue = [1, 0]'),\n",
       " Text(256.68, 153.19636363636363, 'gini = 0.0\\nsamples = 3\\nvalue = [3, 0]'),\n",
       " Text(260.40000000000003, 163.07999999999998, 'gini = 0.0\\nsamples = 8\\nvalue = [0, 8]'),\n",
       " Text(264.12, 172.96363636363637, 'gini = 0.0\\nsamples = 3\\nvalue = [3, 0]'),\n",
       " Text(300.39000000000004, 182.84727272727272, 'X[9] <= 17.25\\ngini = 0.402\\nsamples = 61\\nvalue = [44, 17]'),\n",
       " Text(280.86, 172.96363636363637, 'X[1] <= 24.5\\ngini = 0.489\\nsamples = 33\\nvalue = [19, 14]'),\n",
       " Text(267.84000000000003, 163.07999999999998, 'X[9] <= 8.3\\ngini = 0.444\\nsamples = 15\\nvalue = [5, 10]'),\n",
       " Text(264.12, 153.19636363636363, 'gini = 0.0\\nsamples = 5\\nvalue = [0, 5]'),\n",
       " Text(271.56, 153.19636363636363, 'X[9] <= 10.825\\ngini = 0.5\\nsamples = 10\\nvalue = [5, 5]'),\n",
       " Text(267.84000000000003, 143.31272727272727, 'gini = 0.0\\nsamples = 5\\nvalue = [5, 0]'),\n",
       " Text(275.28000000000003, 143.31272727272727, 'gini = 0.0\\nsamples = 5\\nvalue = [0, 5]'),\n",
       " Text(293.88, 163.07999999999998, 'X[1] <= 55.0\\ngini = 0.346\\nsamples = 18\\nvalue = [14, 4]'),\n",
       " Text(290.16, 153.19636363636363, 'X[9] <= 11.469\\ngini = 0.291\\nsamples = 17\\nvalue = [14, 3]'),\n",
       " Text(282.72, 143.31272727272727, 'X[1] <= 27.5\\ngini = 0.153\\nsamples = 12\\nvalue = [11, 1]'),\n",
       " Text(279.0, 133.42909090909092, 'X[1] <= 26.0\\ngini = 0.444\\nsamples = 3\\nvalue = [2, 1]'),\n",
       " Text(275.28000000000003, 123.54545454545455, 'gini = 0.0\\nsamples = 2\\nvalue = [2, 0]'),\n",
       " Text(282.72, 123.54545454545455, 'gini = 0.0\\nsamples = 1\\nvalue = [0, 1]'),\n",
       " Text(286.44, 133.42909090909092, 'gini = 0.0\\nsamples = 9\\nvalue = [9, 0]'),\n",
       " Text(297.6, 143.31272727272727, 'X[1] <= 28.85\\ngini = 0.48\\nsamples = 5\\nvalue = [3, 2]'),\n",
       " Text(293.88, 133.42909090909092, 'gini = 0.0\\nsamples = 2\\nvalue = [2, 0]'),\n",
       " Text(301.32, 133.42909090909092, 'X[1] <= 38.5\\ngini = 0.444\\nsamples = 3\\nvalue = [1, 2]'),\n",
       " Text(297.6, 123.54545454545455, 'gini = 0.0\\nsamples = 2\\nvalue = [0, 2]'),\n",
       " Text(305.04, 123.54545454545455, 'gini = 0.0\\nsamples = 1\\nvalue = [1, 0]'),\n",
       " Text(297.6, 153.19636363636363, 'gini = 0.0\\nsamples = 1\\nvalue = [0, 1]'),\n",
       " Text(319.92, 172.96363636363637, 'X[1] <= 30.5\\ngini = 0.191\\nsamples = 28\\nvalue = [25, 3]'),\n",
       " Text(312.48, 163.07999999999998, 'X[1] <= 5.5\\ngini = 0.095\\nsamples = 20\\nvalue = [19, 1]'),\n",
       " Text(308.76, 153.19636363636363, 'X[8] <= 3.5\\ngini = 0.444\\nsamples = 3\\nvalue = [2, 1]'),\n",
       " Text(305.04, 143.31272727272727, 'gini = 0.0\\nsamples = 2\\nvalue = [2, 0]'),\n",
       " Text(312.48, 143.31272727272727, 'gini = 0.0\\nsamples = 1\\nvalue = [0, 1]'),\n",
       " Text(316.2, 153.19636363636363, 'gini = 0.0\\nsamples = 17\\nvalue = [17, 0]'),\n",
       " Text(327.36, 163.07999999999998, 'X[1] <= 38.5\\ngini = 0.375\\nsamples = 8\\nvalue = [6, 2]'),\n",
       " Text(323.64000000000004, 153.19636363636363, 'X[7] <= 0.5\\ngini = 0.444\\nsamples = 3\\nvalue = [1, 2]'),\n",
       " Text(319.92, 143.31272727272727, 'gini = 0.0\\nsamples = 1\\nvalue = [1, 0]'),\n",
       " Text(327.36, 143.31272727272727, 'gini = 0.0\\nsamples = 2\\nvalue = [0, 2]'),\n",
       " Text(331.08000000000004, 153.19636363636363, 'gini = 0.0\\nsamples = 5\\nvalue = [5, 0]')]"
      ]
     },
     "execution_count": 23,
     "metadata": {},
     "output_type": "execute_result"
    },
    {
     "data": {
      "image/png": "[encoded data removed]",
      "text/plain": [
       "<Figure size 432x288 with 1 Axes>"
      ]
     },
     "metadata": {
      "needs_background": "light"
     },
     "output_type": "display_data"
    }
   ],
   "source": [
    "from sklearn.tree import DecisionTreeClassifier, export_graphviz\n",
    "X_train, X_test, y_train, y_test = train_test_split(data_train, train_class, test_size=0.33)\n",
    "clf_tree = DecisionTreeClassifier()\n",
    "clf_tree.fit(X_train, y_train)\n",
    "tree.plot_tree(clf_tree) "
   ]
  },
  {
   "cell_type": "code",
   "execution_count": 24,
   "metadata": {},
   "outputs": [
    {
     "data": {
      "text/plain": [
       "PassengerId      0\n",
       "Pclass           0\n",
       "Name             0\n",
       "Sex              0\n",
       "Age             86\n",
       "SibSp            0\n",
       "Parch            0\n",
       "Ticket           0\n",
       "Fare             1\n",
       "Cabin          327\n",
       "Embarked         0\n",
       "dtype: int64"
      ]
     },
     "execution_count": 24,
     "metadata": {},
     "output_type": "execute_result"
    }
   ],
   "source": [
    "test_dt.isnull().sum()"
   ]
  },
  {
   "cell_type": "code",
   "execution_count": 25,
   "metadata": {},
   "outputs": [
    {
     "data": {
      "text/plain": [
       "PassengerId    0\n",
       "Pclass         0\n",
       "Name           0\n",
       "Sex            0\n",
       "Age            0\n",
       "SibSp          0\n",
       "Parch          0\n",
       "Ticket         0\n",
       "Fare           0\n",
       "Cabin          0\n",
       "Embarked       0\n",
       "dtype: int64"
      ]
     },
     "execution_count": 25,
     "metadata": {},
     "output_type": "execute_result"
    }
   ],
   "source": [
    "test_dt[\"Age\"] = test_dt['Age'].fillna(test_dt[\"Age\"].mean())\n",
    "test_dt[\"Cabin\"] = test_dt['Cabin'].fillna('Unknow')\n",
    "test_dt['Fare']= test_dt['Fare'].fillna(test_dt['Fare'].mean())\n",
    "test_dt.isnull().sum()"
   ]
  },
  {
   "cell_type": "code",
   "execution_count": 26,
   "metadata": {},
   "outputs": [],
   "source": [
    "test_dt = pd.get_dummies(test_dt, columns=['Sex'])\n",
    "test_dt = pd.get_dummies(test_dt, columns=['Embarked'])"
   ]
  },
  {
   "cell_type": "code",
   "execution_count": 27,
   "metadata": {},
   "outputs": [
    {
     "data": {
      "text/html": [
       "<div>\n",
       "<style scoped>\n",
       "    .dataframe tbody tr th:only-of-type {\n",
       "        vertical-align: middle;\n",
       "    }\n",
       "\n",
       "    .dataframe tbody tr th {\n",
       "        vertical-align: top;\n",
       "    }\n",
       "\n",
       "    .dataframe thead th {\n",
       "        text-align: right;\n",
       "    }\n",
       "</style>\n",
       "<table border=\"1\" class=\"dataframe\">\n",
       "  <thead>\n",
       "    <tr style=\"text-align: right;\">\n",
       "      <th></th>\n",
       "      <th>PassengerId</th>\n",
       "      <th>Survived</th>\n",
       "    </tr>\n",
       "  </thead>\n",
       "  <tbody>\n",
       "    <tr>\n",
       "      <th>0</th>\n",
       "      <td>892</td>\n",
       "      <td>0</td>\n",
       "    </tr>\n",
       "    <tr>\n",
       "      <th>1</th>\n",
       "      <td>893</td>\n",
       "      <td>0</td>\n",
       "    </tr>\n",
       "    <tr>\n",
       "      <th>2</th>\n",
       "      <td>894</td>\n",
       "      <td>1</td>\n",
       "    </tr>\n",
       "    <tr>\n",
       "      <th>3</th>\n",
       "      <td>895</td>\n",
       "      <td>1</td>\n",
       "    </tr>\n",
       "    <tr>\n",
       "      <th>4</th>\n",
       "      <td>896</td>\n",
       "      <td>1</td>\n",
       "    </tr>\n",
       "  </tbody>\n",
       "</table>\n",
       "</div>"
      ],
      "text/plain": [
       "   PassengerId  Survived\n",
       "0          892         0\n",
       "1          893         0\n",
       "2          894         1\n",
       "3          895         1\n",
       "4          896         1"
      ]
     },
     "execution_count": 27,
     "metadata": {},
     "output_type": "execute_result"
    }
   ],
   "source": [
    "ids = test_dt['PassengerId']\n",
    "test_feature = test_dt[name_colums]\n",
    "predictions = clf_tree.predict(test_feature)\n",
    "output = pd.DataFrame({ 'PassengerId' : ids, 'Survived': predictions })\n",
    "output.head()\n",
    "output.to_csv('submission1.csv', index=False)"
   ]
  },
  {
   "cell_type": "code",
   "execution_count": 32,
   "metadata": {},
   "outputs": [
    {
     "name": "stderr",
     "output_type": "stream",
     "text": [
      "C:\\Users\\long\\anaconda3\\lib\\site-packages\\sklearn\\utils\\validation.py:760: DataConversionWarning: A column-vector y was passed when a 1d array was expected. Please change the shape of y to (n_samples, ), for example using ravel().\n",
      "  y = column_or_1d(y, warn=True)\n"
     ]
    }
   ],
   "source": [
    "\n",
    "#0.738\n",
    "from sklearn.svm import SVC\n",
    "clf_svc = SVC(kernel = \"linear\")\n",
    "clf_svc.fit(X_train , y_train)\n",
    "predictions_2= clf_svc.predict(test_feature)\n",
    "output2 = pd.DataFrame({ 'PassengerId' : ids, 'Survived': predictions })\n",
    "output2.head()\n",
    "output.to_csv('submission2.csv', index=False)\n",
    "#0.739"
   ]
  }
 ],
 "metadata": {
  "kernelspec": {
   "display_name": "Python 3",
   "language": "python",
   "name": "python3"
  },
  "language_info": {
   "codemirror_mode": {
    "name": "ipython",
    "version": 3
   },
   "file_extension": ".py",
   "mimetype": "text/x-python",
   "name": "python",
   "nbconvert_exporter": "python",
   "pygments_lexer": "ipython3",
   "version": "3.7.6"
  }
 },
 "nbformat": 4,
 "nbformat_minor": 4
}
